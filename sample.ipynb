{
 "cells": [
  {
   "cell_type": "markdown",
   "id": "8a77807f92f26ee",
   "metadata": {},
   "source": [
    "# Kaggle - House Price Prediction Using Pytorch (Tabular Dataset)"
   ]
  },
  {
   "cell_type": "markdown",
   "id": "42c11fcfce789555",
   "metadata": {},
   "source": [
    "1. Theoretical Knowledge of Deep Learning\n",
    "2. ANN(Artificial Neural Network with Pytorch)\n",
    "3. Feature Engineering {Categorical - Embedding Layer, Continuous Variable}\n",
    "4. Pythonic Class to create feed forward neural networks\n",
    "\n",
    "Dataset -> features{categorical, continuous}\n",
    "Pytorch -> Tabular Dataset\n",
    "\n",
    "Categorical Features - embedding layers\n",
    "continuous Features\n",
    "\n",
    "1. Categorical Features - embedding layers\n",
    "a) Label Encoding\n",
    "b) take all categorical featuers {numpy, torch -> tensors}\n",
    "c) Lets take all the continuous values\n",
    "d) Continuouse -> Numpy -> Torch -> tensors\n",
    "e) Embedding Layers -> Categorical Features"
   ]
  },
  {
   "cell_type": "markdown",
   "id": "d273dd7f2cdaaa51",
   "metadata": {},
   "source": [
    "### 1. Category Embedding"
   ]
  },
  {
   "cell_type": "code",
   "execution_count": 1,
   "id": "a1f0d95223231a38",
   "metadata": {
    "ExecuteTime": {
     "end_time": "2024-11-05T20:42:51.289323Z",
     "start_time": "2024-11-05T20:42:49.659961Z"
    }
   },
   "outputs": [],
   "source": [
    "import pandas as pd\n",
    "import numpy as np\n",
    "from patsy.test_highlevel import test_categorical"
   ]
  },
  {
   "cell_type": "code",
   "execution_count": 2,
   "id": "815d37d5070b7606",
   "metadata": {
    "ExecuteTime": {
     "end_time": "2024-11-05T20:42:51.306803Z",
     "start_time": "2024-11-05T20:42:51.293065Z"
    }
   },
   "outputs": [],
   "source": [
    "df = pd.read_csv(\"houseprice.csv\", usecols=[\"SalePrice\", \"MSSubClass\", \"MSZoning\", \"LotFrontage\", \"LotArea\", \"Street\", \"YearBuilt\", \"LotShape\", \"1stFlrSF\", \"2ndFlrSF\"]).dropna()"
   ]
  },
  {
   "cell_type": "code",
   "execution_count": 3,
   "id": "41f17c2be6637b6a",
   "metadata": {
    "ExecuteTime": {
     "end_time": "2024-11-05T20:42:51.355553Z",
     "start_time": "2024-11-05T20:42:51.350022Z"
    }
   },
   "outputs": [
    {
     "data": {
      "text/plain": [
       "(1201, 10)"
      ]
     },
     "execution_count": 3,
     "metadata": {},
     "output_type": "execute_result"
    }
   ],
   "source": [
    "df.shape"
   ]
  },
  {
   "cell_type": "code",
   "execution_count": 4,
   "id": "99459e9b24c042bb",
   "metadata": {
    "ExecuteTime": {
     "end_time": "2024-11-05T20:42:51.386869Z",
     "start_time": "2024-11-05T20:42:51.378878Z"
    }
   },
   "outputs": [
    {
     "data": {
      "text/html": [
       "<div>\n",
       "<style scoped>\n",
       "    .dataframe tbody tr th:only-of-type {\n",
       "        vertical-align: middle;\n",
       "    }\n",
       "\n",
       "    .dataframe tbody tr th {\n",
       "        vertical-align: top;\n",
       "    }\n",
       "\n",
       "    .dataframe thead th {\n",
       "        text-align: right;\n",
       "    }\n",
       "</style>\n",
       "<table border=\"1\" class=\"dataframe\">\n",
       "  <thead>\n",
       "    <tr style=\"text-align: right;\">\n",
       "      <th></th>\n",
       "      <th>MSSubClass</th>\n",
       "      <th>MSZoning</th>\n",
       "      <th>LotFrontage</th>\n",
       "      <th>LotArea</th>\n",
       "      <th>Street</th>\n",
       "      <th>LotShape</th>\n",
       "      <th>YearBuilt</th>\n",
       "      <th>1stFlrSF</th>\n",
       "      <th>2ndFlrSF</th>\n",
       "      <th>SalePrice</th>\n",
       "    </tr>\n",
       "  </thead>\n",
       "  <tbody>\n",
       "    <tr>\n",
       "      <th>0</th>\n",
       "      <td>60</td>\n",
       "      <td>RL</td>\n",
       "      <td>65.0</td>\n",
       "      <td>8450</td>\n",
       "      <td>Pave</td>\n",
       "      <td>Reg</td>\n",
       "      <td>2003</td>\n",
       "      <td>856</td>\n",
       "      <td>854</td>\n",
       "      <td>208500</td>\n",
       "    </tr>\n",
       "    <tr>\n",
       "      <th>1</th>\n",
       "      <td>20</td>\n",
       "      <td>RL</td>\n",
       "      <td>80.0</td>\n",
       "      <td>9600</td>\n",
       "      <td>Pave</td>\n",
       "      <td>Reg</td>\n",
       "      <td>1976</td>\n",
       "      <td>1262</td>\n",
       "      <td>0</td>\n",
       "      <td>181500</td>\n",
       "    </tr>\n",
       "    <tr>\n",
       "      <th>2</th>\n",
       "      <td>60</td>\n",
       "      <td>RL</td>\n",
       "      <td>68.0</td>\n",
       "      <td>11250</td>\n",
       "      <td>Pave</td>\n",
       "      <td>IR1</td>\n",
       "      <td>2001</td>\n",
       "      <td>920</td>\n",
       "      <td>866</td>\n",
       "      <td>223500</td>\n",
       "    </tr>\n",
       "    <tr>\n",
       "      <th>3</th>\n",
       "      <td>70</td>\n",
       "      <td>RL</td>\n",
       "      <td>60.0</td>\n",
       "      <td>9550</td>\n",
       "      <td>Pave</td>\n",
       "      <td>IR1</td>\n",
       "      <td>1915</td>\n",
       "      <td>961</td>\n",
       "      <td>756</td>\n",
       "      <td>140000</td>\n",
       "    </tr>\n",
       "    <tr>\n",
       "      <th>4</th>\n",
       "      <td>60</td>\n",
       "      <td>RL</td>\n",
       "      <td>84.0</td>\n",
       "      <td>14260</td>\n",
       "      <td>Pave</td>\n",
       "      <td>IR1</td>\n",
       "      <td>2000</td>\n",
       "      <td>1145</td>\n",
       "      <td>1053</td>\n",
       "      <td>250000</td>\n",
       "    </tr>\n",
       "  </tbody>\n",
       "</table>\n",
       "</div>"
      ],
      "text/plain": [
       "   MSSubClass MSZoning  LotFrontage  LotArea Street LotShape  YearBuilt  \\\n",
       "0          60       RL         65.0     8450   Pave      Reg       2003   \n",
       "1          20       RL         80.0     9600   Pave      Reg       1976   \n",
       "2          60       RL         68.0    11250   Pave      IR1       2001   \n",
       "3          70       RL         60.0     9550   Pave      IR1       1915   \n",
       "4          60       RL         84.0    14260   Pave      IR1       2000   \n",
       "\n",
       "   1stFlrSF  2ndFlrSF  SalePrice  \n",
       "0       856       854     208500  \n",
       "1      1262         0     181500  \n",
       "2       920       866     223500  \n",
       "3       961       756     140000  \n",
       "4      1145      1053     250000  "
      ]
     },
     "execution_count": 4,
     "metadata": {},
     "output_type": "execute_result"
    }
   ],
   "source": [
    "df.head()"
   ]
  },
  {
   "cell_type": "code",
   "execution_count": 5,
   "id": "3274456ad204e3e",
   "metadata": {
    "ExecuteTime": {
     "end_time": "2024-11-05T20:42:51.437769Z",
     "start_time": "2024-11-05T20:42:51.427459Z"
    }
   },
   "outputs": [
    {
     "name": "stdout",
     "output_type": "stream",
     "text": [
      "<class 'pandas.core.frame.DataFrame'>\n",
      "Int64Index: 1201 entries, 0 to 1459\n",
      "Data columns (total 10 columns):\n",
      " #   Column       Non-Null Count  Dtype  \n",
      "---  ------       --------------  -----  \n",
      " 0   MSSubClass   1201 non-null   int64  \n",
      " 1   MSZoning     1201 non-null   object \n",
      " 2   LotFrontage  1201 non-null   float64\n",
      " 3   LotArea      1201 non-null   int64  \n",
      " 4   Street       1201 non-null   object \n",
      " 5   LotShape     1201 non-null   object \n",
      " 6   YearBuilt    1201 non-null   int64  \n",
      " 7   1stFlrSF     1201 non-null   int64  \n",
      " 8   2ndFlrSF     1201 non-null   int64  \n",
      " 9   SalePrice    1201 non-null   int64  \n",
      "dtypes: float64(1), int64(6), object(3)\n",
      "memory usage: 103.2+ KB\n"
     ]
    }
   ],
   "source": [
    "df.info()"
   ]
  },
  {
   "cell_type": "code",
   "execution_count": 6,
   "id": "5e6ad5097160ea71",
   "metadata": {
    "ExecuteTime": {
     "end_time": "2024-11-05T20:42:51.474936Z",
     "start_time": "2024-11-05T20:42:51.469730Z"
    }
   },
   "outputs": [
    {
     "name": "stdout",
     "output_type": "stream",
     "text": [
      "Column name MSSubClass and unique values are 15\n",
      "Column name MSZoning and unique values are 5\n",
      "Column name LotFrontage and unique values are 110\n",
      "Column name LotArea and unique values are 869\n",
      "Column name Street and unique values are 2\n",
      "Column name LotShape and unique values are 4\n",
      "Column name YearBuilt and unique values are 112\n",
      "Column name 1stFlrSF and unique values are 678\n",
      "Column name 2ndFlrSF and unique values are 368\n",
      "Column name SalePrice and unique values are 597\n"
     ]
    }
   ],
   "source": [
    "for i in df.columns:\n",
    "    print(\"Column name {} and unique values are {}\".format(i, len(df[i].unique())))"
   ]
  },
  {
   "cell_type": "code",
   "execution_count": 7,
   "id": "76f9aea8caeb8fbe",
   "metadata": {
    "ExecuteTime": {
     "end_time": "2024-11-05T20:42:51.505476Z",
     "start_time": "2024-11-05T20:42:51.502682Z"
    }
   },
   "outputs": [
    {
     "data": {
      "text/plain": [
       "2024"
      ]
     },
     "execution_count": 7,
     "metadata": {},
     "output_type": "execute_result"
    }
   ],
   "source": [
    "import datetime\n",
    "datetime.datetime.now().year"
   ]
  },
  {
   "cell_type": "code",
   "execution_count": 8,
   "id": "c107aa9372d8e9e6",
   "metadata": {
    "ExecuteTime": {
     "end_time": "2024-11-05T20:42:51.520583Z",
     "start_time": "2024-11-05T20:42:51.517572Z"
    }
   },
   "outputs": [],
   "source": [
    "df['Total Years']=datetime.datetime.now().year-df['YearBuilt']"
   ]
  },
  {
   "cell_type": "code",
   "execution_count": 9,
   "id": "e3028f7c514728e3",
   "metadata": {
    "ExecuteTime": {
     "end_time": "2024-11-05T20:42:51.544927Z",
     "start_time": "2024-11-05T20:42:51.540110Z"
    }
   },
   "outputs": [
    {
     "data": {
      "text/plain": [
       "Index(['MSSubClass', 'MSZoning', 'LotFrontage', 'LotArea', 'Street',\n",
       "       'LotShape', '1stFlrSF', '2ndFlrSF', 'SalePrice', 'Total Years'],\n",
       "      dtype='object')"
      ]
     },
     "execution_count": 9,
     "metadata": {},
     "output_type": "execute_result"
    }
   ],
   "source": [
    "df.drop(\"YearBuilt\", axis=1, inplace=True)\n",
    "df.columns"
   ]
  },
  {
   "cell_type": "code",
   "execution_count": 10,
   "id": "8840c7ef5db10234",
   "metadata": {
    "ExecuteTime": {
     "end_time": "2024-11-05T20:42:51.556262Z",
     "start_time": "2024-11-05T20:42:51.554369Z"
    }
   },
   "outputs": [],
   "source": [
    "cat_features = [\"MSSubClass\", \"MSZoning\", \"Street\", \"LotShape\"]\n",
    "out_feature = \"SalePrice\""
   ]
  },
  {
   "cell_type": "code",
   "execution_count": 11,
   "id": "7494d36846ac6b84",
   "metadata": {
    "ExecuteTime": {
     "end_time": "2024-11-05T20:42:52.049009Z",
     "start_time": "2024-11-05T20:42:51.569930Z"
    }
   },
   "outputs": [
    {
     "data": {
      "text/plain": [
       "array([5, 0, 5, ..., 6, 0, 0])"
      ]
     },
     "execution_count": 11,
     "metadata": {},
     "output_type": "execute_result"
    }
   ],
   "source": [
    "from sklearn.preprocessing import LabelEncoder\n",
    "lbl_encoders = {}\n",
    "lbl_encoders[\"MSSubClass\"] = LabelEncoder()\n",
    "lbl_encoders[\"MSSubClass\"].fit_transform(df[\"MSSubClass\"])"
   ]
  },
  {
   "cell_type": "code",
   "execution_count": 12,
   "id": "5a276c2476eda981",
   "metadata": {
    "ExecuteTime": {
     "end_time": "2024-11-05T20:42:52.061189Z",
     "start_time": "2024-11-05T20:42:52.057802Z"
    }
   },
   "outputs": [
    {
     "data": {
      "text/plain": [
       "{'MSSubClass': LabelEncoder()}"
      ]
     },
     "execution_count": 12,
     "metadata": {},
     "output_type": "execute_result"
    }
   ],
   "source": [
    "lbl_encoders"
   ]
  },
  {
   "cell_type": "code",
   "execution_count": 13,
   "id": "2c347f5884eacf0a",
   "metadata": {
    "ExecuteTime": {
     "end_time": "2024-11-05T20:42:52.090332Z",
     "start_time": "2024-11-05T20:42:52.080187Z"
    }
   },
   "outputs": [
    {
     "data": {
      "text/html": [
       "<div>\n",
       "<style scoped>\n",
       "    .dataframe tbody tr th:only-of-type {\n",
       "        vertical-align: middle;\n",
       "    }\n",
       "\n",
       "    .dataframe tbody tr th {\n",
       "        vertical-align: top;\n",
       "    }\n",
       "\n",
       "    .dataframe thead th {\n",
       "        text-align: right;\n",
       "    }\n",
       "</style>\n",
       "<table border=\"1\" class=\"dataframe\">\n",
       "  <thead>\n",
       "    <tr style=\"text-align: right;\">\n",
       "      <th></th>\n",
       "      <th>MSSubClass</th>\n",
       "      <th>MSZoning</th>\n",
       "      <th>LotFrontage</th>\n",
       "      <th>LotArea</th>\n",
       "      <th>Street</th>\n",
       "      <th>LotShape</th>\n",
       "      <th>1stFlrSF</th>\n",
       "      <th>2ndFlrSF</th>\n",
       "      <th>SalePrice</th>\n",
       "      <th>Total Years</th>\n",
       "    </tr>\n",
       "  </thead>\n",
       "  <tbody>\n",
       "    <tr>\n",
       "      <th>0</th>\n",
       "      <td>5</td>\n",
       "      <td>3</td>\n",
       "      <td>65.0</td>\n",
       "      <td>8450</td>\n",
       "      <td>1</td>\n",
       "      <td>3</td>\n",
       "      <td>856</td>\n",
       "      <td>854</td>\n",
       "      <td>208500</td>\n",
       "      <td>21</td>\n",
       "    </tr>\n",
       "    <tr>\n",
       "      <th>1</th>\n",
       "      <td>0</td>\n",
       "      <td>3</td>\n",
       "      <td>80.0</td>\n",
       "      <td>9600</td>\n",
       "      <td>1</td>\n",
       "      <td>3</td>\n",
       "      <td>1262</td>\n",
       "      <td>0</td>\n",
       "      <td>181500</td>\n",
       "      <td>48</td>\n",
       "    </tr>\n",
       "    <tr>\n",
       "      <th>2</th>\n",
       "      <td>5</td>\n",
       "      <td>3</td>\n",
       "      <td>68.0</td>\n",
       "      <td>11250</td>\n",
       "      <td>1</td>\n",
       "      <td>0</td>\n",
       "      <td>920</td>\n",
       "      <td>866</td>\n",
       "      <td>223500</td>\n",
       "      <td>23</td>\n",
       "    </tr>\n",
       "    <tr>\n",
       "      <th>3</th>\n",
       "      <td>6</td>\n",
       "      <td>3</td>\n",
       "      <td>60.0</td>\n",
       "      <td>9550</td>\n",
       "      <td>1</td>\n",
       "      <td>0</td>\n",
       "      <td>961</td>\n",
       "      <td>756</td>\n",
       "      <td>140000</td>\n",
       "      <td>109</td>\n",
       "    </tr>\n",
       "    <tr>\n",
       "      <th>4</th>\n",
       "      <td>5</td>\n",
       "      <td>3</td>\n",
       "      <td>84.0</td>\n",
       "      <td>14260</td>\n",
       "      <td>1</td>\n",
       "      <td>0</td>\n",
       "      <td>1145</td>\n",
       "      <td>1053</td>\n",
       "      <td>250000</td>\n",
       "      <td>24</td>\n",
       "    </tr>\n",
       "    <tr>\n",
       "      <th>...</th>\n",
       "      <td>...</td>\n",
       "      <td>...</td>\n",
       "      <td>...</td>\n",
       "      <td>...</td>\n",
       "      <td>...</td>\n",
       "      <td>...</td>\n",
       "      <td>...</td>\n",
       "      <td>...</td>\n",
       "      <td>...</td>\n",
       "      <td>...</td>\n",
       "    </tr>\n",
       "    <tr>\n",
       "      <th>1455</th>\n",
       "      <td>5</td>\n",
       "      <td>3</td>\n",
       "      <td>62.0</td>\n",
       "      <td>7917</td>\n",
       "      <td>1</td>\n",
       "      <td>3</td>\n",
       "      <td>953</td>\n",
       "      <td>694</td>\n",
       "      <td>175000</td>\n",
       "      <td>25</td>\n",
       "    </tr>\n",
       "    <tr>\n",
       "      <th>1456</th>\n",
       "      <td>0</td>\n",
       "      <td>3</td>\n",
       "      <td>85.0</td>\n",
       "      <td>13175</td>\n",
       "      <td>1</td>\n",
       "      <td>3</td>\n",
       "      <td>2073</td>\n",
       "      <td>0</td>\n",
       "      <td>210000</td>\n",
       "      <td>46</td>\n",
       "    </tr>\n",
       "    <tr>\n",
       "      <th>1457</th>\n",
       "      <td>6</td>\n",
       "      <td>3</td>\n",
       "      <td>66.0</td>\n",
       "      <td>9042</td>\n",
       "      <td>1</td>\n",
       "      <td>3</td>\n",
       "      <td>1188</td>\n",
       "      <td>1152</td>\n",
       "      <td>266500</td>\n",
       "      <td>83</td>\n",
       "    </tr>\n",
       "    <tr>\n",
       "      <th>1458</th>\n",
       "      <td>0</td>\n",
       "      <td>3</td>\n",
       "      <td>68.0</td>\n",
       "      <td>9717</td>\n",
       "      <td>1</td>\n",
       "      <td>3</td>\n",
       "      <td>1078</td>\n",
       "      <td>0</td>\n",
       "      <td>142125</td>\n",
       "      <td>74</td>\n",
       "    </tr>\n",
       "    <tr>\n",
       "      <th>1459</th>\n",
       "      <td>0</td>\n",
       "      <td>3</td>\n",
       "      <td>75.0</td>\n",
       "      <td>9937</td>\n",
       "      <td>1</td>\n",
       "      <td>3</td>\n",
       "      <td>1256</td>\n",
       "      <td>0</td>\n",
       "      <td>147500</td>\n",
       "      <td>59</td>\n",
       "    </tr>\n",
       "  </tbody>\n",
       "</table>\n",
       "<p>1201 rows × 10 columns</p>\n",
       "</div>"
      ],
      "text/plain": [
       "      MSSubClass  MSZoning  LotFrontage  LotArea  Street  LotShape  1stFlrSF  \\\n",
       "0              5         3         65.0     8450       1         3       856   \n",
       "1              0         3         80.0     9600       1         3      1262   \n",
       "2              5         3         68.0    11250       1         0       920   \n",
       "3              6         3         60.0     9550       1         0       961   \n",
       "4              5         3         84.0    14260       1         0      1145   \n",
       "...          ...       ...          ...      ...     ...       ...       ...   \n",
       "1455           5         3         62.0     7917       1         3       953   \n",
       "1456           0         3         85.0    13175       1         3      2073   \n",
       "1457           6         3         66.0     9042       1         3      1188   \n",
       "1458           0         3         68.0     9717       1         3      1078   \n",
       "1459           0         3         75.0     9937       1         3      1256   \n",
       "\n",
       "      2ndFlrSF  SalePrice  Total Years  \n",
       "0          854     208500           21  \n",
       "1            0     181500           48  \n",
       "2          866     223500           23  \n",
       "3          756     140000          109  \n",
       "4         1053     250000           24  \n",
       "...        ...        ...          ...  \n",
       "1455       694     175000           25  \n",
       "1456         0     210000           46  \n",
       "1457      1152     266500           83  \n",
       "1458         0     142125           74  \n",
       "1459         0     147500           59  \n",
       "\n",
       "[1201 rows x 10 columns]"
      ]
     },
     "execution_count": 13,
     "metadata": {},
     "output_type": "execute_result"
    }
   ],
   "source": [
    "from sklearn.preprocessing import LabelEncoder\n",
    "lbl_encoders={}\n",
    "for feature in cat_features:\n",
    "    lbl_encoders[feature] = LabelEncoder()\n",
    "    df[feature] = lbl_encoders[feature].fit_transform(df[feature])\n",
    "    \n",
    "df"
   ]
  },
  {
   "cell_type": "markdown",
   "id": "276a8e7a86713c95",
   "metadata": {},
   "source": [
    "## Stacking and Coverting into Tensors"
   ]
  },
  {
   "cell_type": "code",
   "execution_count": 14,
   "id": "291d69e565471463",
   "metadata": {
    "ExecuteTime": {
     "end_time": "2024-11-05T20:42:52.129839Z",
     "start_time": "2024-11-05T20:42:52.126504Z"
    }
   },
   "outputs": [
    {
     "data": {
      "text/plain": [
       "array([[5, 3, 1, 3],\n",
       "       [0, 3, 1, 3],\n",
       "       [5, 3, 1, 0],\n",
       "       ...,\n",
       "       [6, 3, 1, 3],\n",
       "       [0, 3, 1, 3],\n",
       "       [0, 3, 1, 3]])"
      ]
     },
     "execution_count": 14,
     "metadata": {},
     "output_type": "execute_result"
    }
   ],
   "source": [
    "cat_features = np.stack([df['MSSubClass'], df['MSZoning'], df['Street'], df['LotShape']], 1)\n",
    "cat_features"
   ]
  },
  {
   "cell_type": "code",
   "execution_count": 15,
   "id": "17881263681c317d",
   "metadata": {
    "ExecuteTime": {
     "end_time": "2024-11-05T20:42:54.118607Z",
     "start_time": "2024-11-05T20:42:52.168324Z"
    }
   },
   "outputs": [
    {
     "name": "stdout",
     "output_type": "stream",
     "text": [
      "Requirement already satisfied: torch in /opt/anaconda3/lib/python3.9/site-packages (2.2.2)\r\n",
      "Requirement already satisfied: torchvision in /opt/anaconda3/lib/python3.9/site-packages (0.17.2)\r\n",
      "Requirement already satisfied: torchaudio in /opt/anaconda3/lib/python3.9/site-packages (2.2.2)\r\n",
      "Requirement already satisfied: typing-extensions>=4.8.0 in /opt/anaconda3/lib/python3.9/site-packages (from torch) (4.12.2)\r\n",
      "Requirement already satisfied: jinja2 in /opt/anaconda3/lib/python3.9/site-packages (from torch) (2.11.3)\r\n",
      "Requirement already satisfied: networkx in /opt/anaconda3/lib/python3.9/site-packages (from torch) (2.7.1)\r\n",
      "Requirement already satisfied: fsspec in /opt/anaconda3/lib/python3.9/site-packages (from torch) (2022.2.0)\r\n",
      "Requirement already satisfied: filelock in /opt/anaconda3/lib/python3.9/site-packages (from torch) (3.6.0)\r\n",
      "Requirement already satisfied: sympy in /opt/anaconda3/lib/python3.9/site-packages (from torch) (1.10.1)\r\n",
      "Requirement already satisfied: pillow!=8.3.*,>=5.3.0 in /opt/anaconda3/lib/python3.9/site-packages (from torchvision) (9.0.1)\r\n",
      "Requirement already satisfied: numpy in /opt/anaconda3/lib/python3.9/site-packages (from torchvision) (1.21.5)\r\n",
      "Requirement already satisfied: MarkupSafe>=0.23 in /opt/anaconda3/lib/python3.9/site-packages (from jinja2->torch) (2.0.1)\r\n",
      "Requirement already satisfied: mpmath>=0.19 in /opt/anaconda3/lib/python3.9/site-packages (from sympy->torch) (1.2.1)\r\n"
     ]
    }
   ],
   "source": [
    "!pip3 install torch torchvision torchaudio\n"
   ]
  },
  {
   "cell_type": "code",
   "execution_count": 16,
   "id": "589455a380253214",
   "metadata": {
    "ExecuteTime": {
     "end_time": "2024-11-05T20:42:55.203262Z",
     "start_time": "2024-11-05T20:42:54.158727Z"
    }
   },
   "outputs": [
    {
     "data": {
      "text/plain": [
       "tensor([[5, 3, 1, 3],\n",
       "        [0, 3, 1, 3],\n",
       "        [5, 3, 1, 0],\n",
       "        ...,\n",
       "        [6, 3, 1, 3],\n",
       "        [0, 3, 1, 3],\n",
       "        [0, 3, 1, 3]])"
      ]
     },
     "execution_count": 16,
     "metadata": {},
     "output_type": "execute_result"
    }
   ],
   "source": [
    "import torch\n",
    "cat_features = torch.tensor(cat_features, dtype=torch.int64)\n",
    "cat_features"
   ]
  },
  {
   "cell_type": "markdown",
   "id": "b935e4de8774623b",
   "metadata": {},
   "source": [
    "## Create Continuous Variable"
   ]
  },
  {
   "cell_type": "code",
   "execution_count": 17,
   "id": "51e7978f466f09eb",
   "metadata": {
    "ExecuteTime": {
     "end_time": "2024-11-05T20:42:55.239110Z",
     "start_time": "2024-11-05T20:42:55.235730Z"
    }
   },
   "outputs": [
    {
     "data": {
      "text/plain": [
       "['LotFrontage', 'LotArea', '1stFlrSF', '2ndFlrSF', 'Total Years']"
      ]
     },
     "execution_count": 17,
     "metadata": {},
     "output_type": "execute_result"
    }
   ],
   "source": [
    "cont_features = []\n",
    "for i in df.columns:\n",
    "    if i in [\"MSSubClass\", \"MSZoning\", \"Street\", \"LotShape\", \"SalePrice\"]:\n",
    "        pass\n",
    "    else:\n",
    "        cont_features.append(i)\n",
    "        \n",
    "cont_features"
   ]
  },
  {
   "cell_type": "markdown",
   "id": "5cb1a88781c76a35",
   "metadata": {},
   "source": [
    "## Stacking continuous variable to a tensor"
   ]
  },
  {
   "cell_type": "code",
   "execution_count": 20,
   "id": "864b5a08fe06ed33",
   "metadata": {
    "ExecuteTime": {
     "end_time": "2024-11-06T18:19:07.837217Z",
     "start_time": "2024-11-06T18:19:07.815967Z"
    }
   },
   "outputs": [
    {
     "data": {
      "text/plain": [
       "tensor([[   65.,  8450.,   856.,   854.,    21.],\n",
       "        [   80.,  9600.,  1262.,     0.,    48.],\n",
       "        [   68., 11250.,   920.,   866.,    23.],\n",
       "        ...,\n",
       "        [   66.,  9042.,  1188.,  1152.,    83.],\n",
       "        [   68.,  9717.,  1078.,     0.,    74.],\n",
       "        [   75.,  9937.,  1256.,     0.,    59.]])"
      ]
     },
     "execution_count": 20,
     "metadata": {},
     "output_type": "execute_result"
    }
   ],
   "source": [
    "cont_values = np.stack([df[i].values for i in cont_features], axis=1)\n",
    "cont_values = torch.tensor(cont_values, dtype=torch.float)\n",
    "cont_values"
   ]
  },
  {
   "cell_type": "code",
   "execution_count": 21,
   "id": "91644e76e2a16f53",
   "metadata": {
    "ExecuteTime": {
     "end_time": "2024-11-06T18:19:18.169151Z",
     "start_time": "2024-11-06T18:19:18.164042Z"
    }
   },
   "outputs": [
    {
     "data": {
      "text/plain": [
       "torch.float32"
      ]
     },
     "execution_count": 21,
     "metadata": {},
     "output_type": "execute_result"
    }
   ],
   "source": [
    "cont_values.dtype"
   ]
  },
  {
   "cell_type": "code",
   "execution_count": 22,
   "id": "11e7b30dd8064d0e",
   "metadata": {
    "ExecuteTime": {
     "end_time": "2024-11-06T18:19:44.561383Z",
     "start_time": "2024-11-06T18:19:44.547326Z"
    }
   },
   "outputs": [
    {
     "data": {
      "text/plain": [
       "tensor([[208500.],\n",
       "        [181500.],\n",
       "        [223500.],\n",
       "        ...,\n",
       "        [266500.],\n",
       "        [142125.],\n",
       "        [147500.]])"
      ]
     },
     "execution_count": 22,
     "metadata": {},
     "output_type": "execute_result"
    }
   ],
   "source": [
    "y = torch.tensor(df['SalePrice'].values, dtype=torch.float).reshape(-1, 1)\n",
    "y"
   ]
  },
  {
   "cell_type": "code",
   "execution_count": 23,
   "id": "40a79305a371196c",
   "metadata": {
    "ExecuteTime": {
     "end_time": "2024-11-06T18:19:58.672168Z",
     "start_time": "2024-11-06T18:19:58.640435Z"
    }
   },
   "outputs": [
    {
     "name": "stdout",
     "output_type": "stream",
     "text": [
      "<class 'pandas.core.frame.DataFrame'>\n",
      "Int64Index: 1201 entries, 0 to 1459\n",
      "Data columns (total 10 columns):\n",
      " #   Column       Non-Null Count  Dtype  \n",
      "---  ------       --------------  -----  \n",
      " 0   MSSubClass   1201 non-null   int64  \n",
      " 1   MSZoning     1201 non-null   int64  \n",
      " 2   LotFrontage  1201 non-null   float64\n",
      " 3   LotArea      1201 non-null   int64  \n",
      " 4   Street       1201 non-null   int64  \n",
      " 5   LotShape     1201 non-null   int64  \n",
      " 6   1stFlrSF     1201 non-null   int64  \n",
      " 7   2ndFlrSF     1201 non-null   int64  \n",
      " 8   SalePrice    1201 non-null   int64  \n",
      " 9   Total Years  1201 non-null   int64  \n",
      "dtypes: float64(1), int64(9)\n",
      "memory usage: 103.2 KB\n"
     ]
    }
   ],
   "source": [
    "df.info()"
   ]
  },
  {
   "cell_type": "code",
   "execution_count": 24,
   "id": "5899217b7fcfabc7",
   "metadata": {
    "ExecuteTime": {
     "end_time": "2024-11-06T18:20:16.887451Z",
     "start_time": "2024-11-06T18:20:16.876379Z"
    }
   },
   "outputs": [
    {
     "data": {
      "text/plain": [
       "(torch.Size([1201, 4]), torch.Size([1201, 5]), torch.Size([1201, 1]))"
      ]
     },
     "execution_count": 24,
     "metadata": {},
     "output_type": "execute_result"
    }
   ],
   "source": [
    "cat_features.shape, cont_values.shape, y.shape"
   ]
  },
  {
   "cell_type": "code",
   "execution_count": 25,
   "id": "e1d49d5a37a5bdc",
   "metadata": {
    "ExecuteTime": {
     "end_time": "2024-11-06T18:20:29.700820Z",
     "start_time": "2024-11-06T18:20:29.693648Z"
    }
   },
   "outputs": [
    {
     "data": {
      "text/plain": [
       "15"
      ]
     },
     "execution_count": 25,
     "metadata": {},
     "output_type": "execute_result"
    }
   ],
   "source": [
    "len(df['MSSubClass'].unique())"
   ]
  },
  {
   "cell_type": "markdown",
   "id": "1a1c097b9fc60e4c",
   "metadata": {},
   "source": [
    "## Embedding Size for categorical columns"
   ]
  },
  {
   "cell_type": "code",
   "execution_count": 26,
   "id": "465ca084fe5e878d",
   "metadata": {
    "ExecuteTime": {
     "end_time": "2024-11-06T18:21:29.366933Z",
     "start_time": "2024-11-06T18:21:29.353445Z"
    }
   },
   "outputs": [
    {
     "data": {
      "text/plain": [
       "[15, 5, 2, 4]"
      ]
     },
     "execution_count": 26,
     "metadata": {},
     "output_type": "execute_result"
    }
   ],
   "source": [
    "cat_dims = [len(df[col].unique()) for col in [\"MSSubClass\", \"MSZoning\", \"Street\", \"LotShape\"]]\n",
    "cat_dims"
   ]
  },
  {
   "cell_type": "code",
   "execution_count": 27,
   "id": "7c871aff0ced467",
   "metadata": {
    "ExecuteTime": {
     "end_time": "2024-11-06T18:22:05.748284Z",
     "start_time": "2024-11-06T18:22:05.738950Z"
    }
   },
   "outputs": [
    {
     "data": {
      "text/plain": [
       "[(15, 8), (5, 3), (2, 1), (4, 2)]"
      ]
     },
     "execution_count": 27,
     "metadata": {},
     "output_type": "execute_result"
    }
   ],
   "source": [
    "# Output dimension should be set based on the input dimension(min(50, feature dimension / 2))\n",
    "embedding_dim = [(x, min(50, (x + 1) // 2)) for x in cat_dims]\n",
    "# Preprocessing step\n",
    "embedding_dim"
   ]
  },
  {
   "cell_type": "code",
   "execution_count": 28,
   "id": "845498ede67eccc1",
   "metadata": {
    "ExecuteTime": {
     "end_time": "2024-11-06T18:22:53.005176Z",
     "start_time": "2024-11-06T18:22:52.982692Z"
    }
   },
   "outputs": [
    {
     "data": {
      "text/plain": [
       "ModuleList(\n",
       "  (0): Embedding(15, 8)\n",
       "  (1): Embedding(5, 3)\n",
       "  (2): Embedding(2, 1)\n",
       "  (3): Embedding(4, 2)\n",
       ")"
      ]
     },
     "execution_count": 28,
     "metadata": {},
     "output_type": "execute_result"
    }
   ],
   "source": [
    "import torch\n",
    "import torch.nn as nn\n",
    "import torch.nn.functional as F\n",
    "embed_representation = nn.ModuleList([nn.Embedding(inp, out) for inp, out in embedding_dim])\n",
    "embed_representation"
   ]
  },
  {
   "cell_type": "code",
   "execution_count": 29,
   "id": "28b8d4040ba82a59",
   "metadata": {
    "ExecuteTime": {
     "end_time": "2024-11-06T18:22:57.082315Z",
     "start_time": "2024-11-06T18:22:57.076257Z"
    }
   },
   "outputs": [
    {
     "data": {
      "text/plain": [
       "tensor([[5, 3, 1, 3],\n",
       "        [0, 3, 1, 3],\n",
       "        [5, 3, 1, 0],\n",
       "        ...,\n",
       "        [6, 3, 1, 3],\n",
       "        [0, 3, 1, 3],\n",
       "        [0, 3, 1, 3]])"
      ]
     },
     "execution_count": 29,
     "metadata": {},
     "output_type": "execute_result"
    }
   ],
   "source": [
    "cat_features"
   ]
  },
  {
   "cell_type": "code",
   "execution_count": 30,
   "id": "87f2d9aa4ad1df5f",
   "metadata": {
    "ExecuteTime": {
     "end_time": "2024-11-06T18:23:18.413607Z",
     "start_time": "2024-11-06T18:23:18.400540Z"
    }
   },
   "outputs": [
    {
     "data": {
      "text/plain": [
       "tensor([[5, 3, 1, 3],\n",
       "        [0, 3, 1, 3],\n",
       "        [5, 3, 1, 0],\n",
       "        [6, 3, 1, 0]])"
      ]
     },
     "execution_count": 30,
     "metadata": {},
     "output_type": "execute_result"
    }
   ],
   "source": [
    "cat_features = cat_features[:4]\n",
    "cat_features"
   ]
  },
  {
   "cell_type": "code",
   "execution_count": 31,
   "id": "2295a633e54ab0a9",
   "metadata": {
    "ExecuteTime": {
     "end_time": "2024-11-06T18:24:24.206450Z",
     "start_time": "2024-11-06T18:24:24.179753Z"
    }
   },
   "outputs": [
    {
     "data": {
      "text/plain": [
       "[tensor([[-0.5066,  0.5028,  0.4615, -0.9150,  0.7739,  2.2989,  0.0451, -0.2518],\n",
       "         [-0.3281, -0.1493,  0.5125,  1.4617,  0.8649,  1.4360,  0.1237,  1.5567],\n",
       "         [-0.5066,  0.5028,  0.4615, -0.9150,  0.7739,  2.2989,  0.0451, -0.2518],\n",
       "         [-0.4618,  0.0544, -0.5698, -0.1233,  0.9962, -0.4440, -0.0993,  1.1003]],\n",
       "        grad_fn=<EmbeddingBackward0>),\n",
       " tensor([[0.1214, 1.0048, 1.0286],\n",
       "         [0.1214, 1.0048, 1.0286],\n",
       "         [0.1214, 1.0048, 1.0286],\n",
       "         [0.1214, 1.0048, 1.0286]], grad_fn=<EmbeddingBackward0>),\n",
       " tensor([[0.1769],\n",
       "         [0.1769],\n",
       "         [0.1769],\n",
       "         [0.1769]], grad_fn=<EmbeddingBackward0>),\n",
       " tensor([[-1.7559, -0.5334],\n",
       "         [-1.7559, -0.5334],\n",
       "         [ 0.6837,  0.4833],\n",
       "         [ 0.6837,  0.4833]], grad_fn=<EmbeddingBackward0>)]"
      ]
     },
     "execution_count": 31,
     "metadata": {},
     "output_type": "execute_result"
    }
   ],
   "source": [
    "pd.set_option('display.max_rows', 500)\n",
    "embedding_val = []\n",
    "for i,e in enumerate(embed_representation):\n",
    "    embedding_val.append(e(cat_features[:,i]))\n",
    "\n",
    "embedding_val"
   ]
  },
  {
   "cell_type": "code",
   "execution_count": 32,
   "id": "964a8ce6bd1b212",
   "metadata": {
    "ExecuteTime": {
     "end_time": "2024-11-06T18:24:39.438367Z",
     "start_time": "2024-11-06T18:24:39.430650Z"
    }
   },
   "outputs": [
    {
     "data": {
      "text/plain": [
       "tensor([[-0.5066,  0.5028,  0.4615, -0.9150,  0.7739,  2.2989,  0.0451, -0.2518,\n",
       "          0.1214,  1.0048,  1.0286,  0.1769, -1.7559, -0.5334],\n",
       "        [-0.3281, -0.1493,  0.5125,  1.4617,  0.8649,  1.4360,  0.1237,  1.5567,\n",
       "          0.1214,  1.0048,  1.0286,  0.1769, -1.7559, -0.5334],\n",
       "        [-0.5066,  0.5028,  0.4615, -0.9150,  0.7739,  2.2989,  0.0451, -0.2518,\n",
       "          0.1214,  1.0048,  1.0286,  0.1769,  0.6837,  0.4833],\n",
       "        [-0.4618,  0.0544, -0.5698, -0.1233,  0.9962, -0.4440, -0.0993,  1.1003,\n",
       "          0.1214,  1.0048,  1.0286,  0.1769,  0.6837,  0.4833]],\n",
       "       grad_fn=<CatBackward0>)"
      ]
     },
     "execution_count": 32,
     "metadata": {},
     "output_type": "execute_result"
    }
   ],
   "source": [
    "z = torch.cat(embedding_val, 1)\n",
    "z"
   ]
  },
  {
   "cell_type": "markdown",
   "id": "78300ce781c1b23",
   "metadata": {},
   "source": [
    "## Implement dropupout"
   ]
  },
  {
   "cell_type": "code",
   "execution_count": 33,
   "id": "737bc8588b2d1f4a",
   "metadata": {
    "ExecuteTime": {
     "end_time": "2024-11-06T18:25:39.653179Z",
     "start_time": "2024-11-06T18:25:39.621300Z"
    }
   },
   "outputs": [
    {
     "data": {
      "text/plain": [
       "tensor([[-0.0000,  0.8379,  0.0000, -0.0000,  0.0000,  0.0000,  0.0000, -0.4196,\n",
       "          0.0000,  0.0000,  1.7143,  0.2949, -2.9265, -0.0000],\n",
       "        [-0.5468, -0.2489,  0.0000,  2.4361,  0.0000,  0.0000,  0.2061,  2.5945,\n",
       "          0.0000,  0.0000,  1.7143,  0.0000, -2.9265, -0.8890],\n",
       "        [-0.0000,  0.8379,  0.7692, -0.0000,  1.2898,  0.0000,  0.0752, -0.4196,\n",
       "          0.0000,  1.6747,  1.7143,  0.2949,  1.1395,  0.0000],\n",
       "        [-0.0000,  0.0000, -0.9496, -0.0000,  0.0000, -0.7400, -0.1655,  1.8339,\n",
       "          0.2023,  1.6747,  0.0000,  0.0000,  0.0000,  0.8055]],\n",
       "       grad_fn=<MulBackward0>)"
      ]
     },
     "execution_count": 33,
     "metadata": {},
     "output_type": "execute_result"
    }
   ],
   "source": [
    "dropout = nn.Dropout(0.4)\n",
    "final_embed = dropout(z)\n",
    "final_embed"
   ]
  },
  {
   "cell_type": "markdown",
   "id": "5385b8baf74bf112",
   "metadata": {},
   "source": [
    "## Create a Feed Forward Neural Network"
   ]
  },
  {
   "cell_type": "code",
   "execution_count": 34,
   "id": "fd66b652494c6f32",
   "metadata": {
    "ExecuteTime": {
     "end_time": "2024-11-06T18:30:41.323007Z",
     "start_time": "2024-11-06T18:30:41.310661Z"
    }
   },
   "outputs": [],
   "source": [
    "import torch\n",
    "import torch.nn as nn\n",
    "import torch.nn.functional as F\n",
    "class FeedForwardNN(nn.Module):\n",
    "    def __init__(self, embedding_dim, n_cont, out_sz, layers, p = 0.5):\n",
    "        super().__init__()\n",
    "        self.embeds = nn.ModuleList([nn.Embedding(inp, out) for inp, out in embedding_dim])\n",
    "        self.emb_drop = nn.Dropout(p)\n",
    "        self.bn_cont = nn.BatchNorm1d(n_cont)\n",
    "        \n",
    "        layerList = []\n",
    "        n_emb = sum((out for inp, out in embedding_dim))\n",
    "        n_in = n_emb + n_cont\n",
    "        \n",
    "        for i in layers:\n",
    "            layerList.append(nn.Linear(n_in, i))\n",
    "            layerList.append(nn.ReLU(inplace=True))\n",
    "            layerList.append(nn.BatchNorm1d(i))\n",
    "            layerList.append(nn.Dropout(p))\n",
    "            n_in = i\n",
    "        layerList.append(nn.Linear(layers[-1], out_sz))\n",
    "        self.layers = nn.Sequential(*layerList)\n",
    "    def forward(self, x_cat, x_cont):\n",
    "        embeddings = []\n",
    "        for i,e in enumerate(self.embeds):\n",
    "            embeddings.append(e(x_cat[:, i]))\n",
    "        x = torch.cat(embeddings, 1)\n",
    "        x = self.emb_drop(x)\n",
    "        \n",
    "        x_cont = self.bn_cont(x_cont)\n",
    "        x = torch.cat([x, x_cont], 1)\n",
    "        return 1\n",
    "    "
   ]
  },
  {
   "cell_type": "code",
   "execution_count": 35,
   "id": "d16255a38a2e2a5b",
   "metadata": {
    "ExecuteTime": {
     "end_time": "2024-11-06T18:30:48.950615Z",
     "start_time": "2024-11-06T18:30:48.945982Z"
    }
   },
   "outputs": [
    {
     "data": {
      "text/plain": [
       "5"
      ]
     },
     "execution_count": 35,
     "metadata": {},
     "output_type": "execute_result"
    }
   ],
   "source": [
    "len(cont_features)"
   ]
  },
  {
   "cell_type": "code",
   "execution_count": 36,
   "id": "7aa70bb82c9d151c",
   "metadata": {
    "ExecuteTime": {
     "end_time": "2024-11-06T18:34:14.823860Z",
     "start_time": "2024-11-06T18:34:14.767557Z"
    }
   },
   "outputs": [],
   "source": [
    "torch.manual_seed(100)\n",
    "model = FeedForwardNN(embedding_dim, len(cont_features), 1, [100, 50], p = 0.4)"
   ]
  },
  {
   "cell_type": "code",
   "execution_count": 37,
   "id": "753557d0aae37c84",
   "metadata": {
    "ExecuteTime": {
     "end_time": "2024-11-06T18:34:17.929949Z",
     "start_time": "2024-11-06T18:34:17.924723Z"
    }
   },
   "outputs": [
    {
     "data": {
      "text/plain": [
       "FeedForwardNN(\n",
       "  (embeds): ModuleList(\n",
       "    (0): Embedding(15, 8)\n",
       "    (1): Embedding(5, 3)\n",
       "    (2): Embedding(2, 1)\n",
       "    (3): Embedding(4, 2)\n",
       "  )\n",
       "  (emb_drop): Dropout(p=0.4, inplace=False)\n",
       "  (bn_cont): BatchNorm1d(5, eps=1e-05, momentum=0.1, affine=True, track_running_stats=True)\n",
       "  (layers): Sequential(\n",
       "    (0): Linear(in_features=19, out_features=100, bias=True)\n",
       "    (1): ReLU(inplace=True)\n",
       "    (2): BatchNorm1d(100, eps=1e-05, momentum=0.1, affine=True, track_running_stats=True)\n",
       "    (3): Dropout(p=0.4, inplace=False)\n",
       "    (4): Linear(in_features=100, out_features=50, bias=True)\n",
       "    (5): ReLU(inplace=True)\n",
       "    (6): BatchNorm1d(50, eps=1e-05, momentum=0.1, affine=True, track_running_stats=True)\n",
       "    (7): Dropout(p=0.4, inplace=False)\n",
       "    (8): Linear(in_features=50, out_features=1, bias=True)\n",
       "  )\n",
       ")"
      ]
     },
     "execution_count": 37,
     "metadata": {},
     "output_type": "execute_result"
    }
   ],
   "source": [
    "model"
   ]
  },
  {
   "cell_type": "markdown",
   "id": "5640362e74c6f099",
   "metadata": {},
   "source": [
    "## Define Loss and Optimizer"
   ]
  },
  {
   "cell_type": "code",
   "execution_count": 39,
   "id": "9e3f91aba44d1b63",
   "metadata": {
    "ExecuteTime": {
     "end_time": "2024-11-06T19:12:51.805234Z",
     "start_time": "2024-11-06T19:12:50.912919Z"
    }
   },
   "outputs": [],
   "source": [
    "loss_function = nn.MSELoss()\n",
    "optimizer = torch.optim.Adam(model.parameters(), lr=0.01)"
   ]
  },
  {
   "cell_type": "code",
   "execution_count": 40,
   "id": "e456a3727e4ced6e",
   "metadata": {
    "ExecuteTime": {
     "end_time": "2024-11-06T19:12:57.030454Z",
     "start_time": "2024-11-06T19:12:57.024735Z"
    }
   },
   "outputs": [
    {
     "data": {
      "text/plain": [
       "(1201, 10)"
      ]
     },
     "execution_count": 40,
     "metadata": {},
     "output_type": "execute_result"
    }
   ],
   "source": [
    "df.shape"
   ]
  },
  {
   "cell_type": "code",
   "execution_count": 41,
   "id": "8c843e4723de5db6",
   "metadata": {
    "ExecuteTime": {
     "end_time": "2024-11-06T19:13:01.158739Z",
     "start_time": "2024-11-06T19:13:01.151057Z"
    }
   },
   "outputs": [
    {
     "data": {
      "text/plain": [
       "tensor([[   65.,  8450.,   856.,   854.,    21.],\n",
       "        [   80.,  9600.,  1262.,     0.,    48.],\n",
       "        [   68., 11250.,   920.,   866.,    23.],\n",
       "        ...,\n",
       "        [   66.,  9042.,  1188.,  1152.,    83.],\n",
       "        [   68.,  9717.,  1078.,     0.,    74.],\n",
       "        [   75.,  9937.,  1256.,     0.,    59.]])"
      ]
     },
     "execution_count": 41,
     "metadata": {},
     "output_type": "execute_result"
    }
   ],
   "source": [
    "cont_values"
   ]
  },
  {
   "cell_type": "code",
   "execution_count": 42,
   "id": "1f01633342f34204",
   "metadata": {
    "ExecuteTime": {
     "end_time": "2024-11-06T19:13:08.723075Z",
     "start_time": "2024-11-06T19:13:08.720034Z"
    }
   },
   "outputs": [
    {
     "data": {
      "text/plain": [
       "torch.Size([1201, 5])"
      ]
     },
     "execution_count": 42,
     "metadata": {},
     "output_type": "execute_result"
    }
   ],
   "source": [
    "cont_values.shape"
   ]
  },
  {
   "cell_type": "code",
   "execution_count": 46,
   "id": "ab84ca697f6f3194",
   "metadata": {
    "ExecuteTime": {
     "end_time": "2024-11-06T19:16:03.163343Z",
     "start_time": "2024-11-06T19:16:03.158655Z"
    }
   },
   "outputs": [],
   "source": [
    "batch_size = 1200\n",
    "test_size = int(batch_size * 0.15)\n",
    "train_categorical = cat_features[:batch_size - test_size]\n",
    "test_categorical = cat_features[batch_size - test_size:batch_size]\n",
    "train_cont = cont_values[:batch_size - test_size]\n",
    "test_cont = cont_values[batch_size - test_size:batch_size]\n",
    "y_train = y[:batch_size - test_size]\n",
    "y_test = y[batch_size - test_size:batch_size]"
   ]
  },
  {
   "cell_type": "code",
   "execution_count": 47,
   "id": "d578b8fba9821979",
   "metadata": {
    "ExecuteTime": {
     "end_time": "2024-11-06T19:16:03.648832Z",
     "start_time": "2024-11-06T19:16:03.645743Z"
    }
   },
   "outputs": [
    {
     "data": {
      "text/plain": [
       "(4, 0, 1020, 180, 1020, 180)"
      ]
     },
     "execution_count": 47,
     "metadata": {},
     "output_type": "execute_result"
    }
   ],
   "source": [
    "len(train_categorical), len(test_categorical), len(train_cont), len(test_cont), len(y_train), len(y_test)"
   ]
  },
  {
   "cell_type": "code",
   "execution_count": null,
   "id": "3774969d15dac7b3",
   "metadata": {
    "ExecuteTime": {
     "end_time": "2024-11-06T19:27:20.915664Z",
     "start_time": "2024-11-06T19:21:04.653899Z"
    }
   },
   "outputs": [],
   "source": [
    "epochs = 5000\n",
    "final_losses = []\n",
    "for i in range(epochs):\n",
    "    i = i + 1\n",
    "    y_pred = model(train_categorical, train_cont)\n",
    "    loss = torch.sqrt(loss_function(y_pred, y_train)) # RMSE\n",
    "    final_losses.append(loss)\n",
    "    if i % 10 == 1:\n",
    "        print(\"Epoch number: {} and the loss {}\".format(i, loss.item()))\n",
    "    optimizer.zero_grad()\n",
    "    loss.backward()\n",
    "    optimizer.step()"
   ]
  },
  {
   "cell_type": "code",
   "execution_count": null,
   "id": "87343916f44d3bf7",
   "metadata": {},
   "outputs": [],
   "source": [
    "import matplotlib.pyplot as plt\n",
    "%matplotlib inline\n",
    "plt.plot(range(epochs), final_losses)\n",
    "plt.ylabel(\"RMSE Loss\")\n",
    "plt.xlabel(\"Epochs\")"
   ]
  },
  {
   "cell_type": "markdown",
   "id": "d7c7a444017de34c",
   "metadata": {},
   "source": [
    "## Validate the Test Data"
   ]
  },
  {
   "cell_type": "code",
   "execution_count": null,
   "id": "fd3f400ae4f10526",
   "metadata": {},
   "outputs": [],
   "source": [
    "y_pred = \"\"\n",
    "with torch.no_grad():\n",
    "    y_pred = model(test_categorical, test_cont)\n",
    "    loss = torch.sqrt(loss_function(y_pred, y_test))\n",
    "print(\"RMSE: {}\".format(loss))"
   ]
  },
  {
   "cell_type": "code",
   "execution_count": null,
   "id": "d080c881c55c5426",
   "metadata": {},
   "outputs": [],
   "source": [
    "data_verify = pd.DataFrame(y_test.tolist(), columns=[\"Test\"])"
   ]
  },
  {
   "cell_type": "code",
   "execution_count": null,
   "id": "573438e8f04b6374",
   "metadata": {},
   "outputs": [],
   "source": [
    "data_predicted = pd.DataFrame(y_pred.tolist(), columns=[\"Prediction\"])"
   ]
  },
  {
   "cell_type": "code",
   "execution_count": null,
   "id": "bbc3897469fed854",
   "metadata": {},
   "outputs": [],
   "source": [
    "data_predicted"
   ]
  },
  {
   "cell_type": "code",
   "execution_count": null,
   "id": "5eae363b5f13a5b7",
   "metadata": {},
   "outputs": [],
   "source": [
    "final_output = pd.concat([data_verify, data_predicted], axis=1)\n",
    "final_output['Difference'] = final_output['Test'] - final_output['Prediction']\n",
    "final_output.head()"
   ]
  },
  {
   "cell_type": "code",
   "execution_count": null,
   "id": "58dfa58e5782fa06",
   "metadata": {},
   "outputs": [],
   "source": [
    "## Saving the Model\n",
    "torch.save(model, 'HousePrice.pt')"
   ]
  },
  {
   "cell_type": "code",
   "execution_count": null,
   "id": "fe782828e22dcbf6",
   "metadata": {},
   "outputs": [],
   "source": [
    "torch.save(model.state_dict(), 'HouseWeights.pt')"
   ]
  },
  {
   "cell_type": "code",
   "execution_count": null,
   "id": "6e8cfa32e994f126",
   "metadata": {},
   "outputs": [],
   "source": [
    "## Loading the saved Model\n",
    "embs_size = [(15, 8), (5, 3), (2, 1), (4, 2)]\n",
    "model1 = FeedForwardNN(embs_size, 5, 1, [100, 50], p=0.4)"
   ]
  },
  {
   "cell_type": "code",
   "execution_count": null,
   "id": "3d59c51c16d77a20",
   "metadata": {},
   "outputs": [],
   "source": [
    "model1.load_state_dict(torch.load('HouseWeights.pt'))"
   ]
  },
  {
   "cell_type": "code",
   "execution_count": null,
   "id": "bffba186004c5524",
   "metadata": {},
   "outputs": [],
   "source": [
    "model1.eval()"
   ]
  }
 ],
 "metadata": {
  "kernelspec": {
   "display_name": "Python 3",
   "language": "python",
   "name": "python3"
  },
  "language_info": {
   "codemirror_mode": {
    "name": "ipython",
    "version": 2
   },
   "file_extension": ".py",
   "mimetype": "text/x-python",
   "name": "python",
   "nbconvert_exporter": "python",
   "pygments_lexer": "ipython2",
   "version": "3.12.1"
  }
 },
 "nbformat": 4,
 "nbformat_minor": 5
}
